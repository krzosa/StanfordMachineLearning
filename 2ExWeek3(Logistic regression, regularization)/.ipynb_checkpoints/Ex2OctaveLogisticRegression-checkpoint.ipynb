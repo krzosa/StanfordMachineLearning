{
 "cells": [
  {
   "cell_type": "code",
   "execution_count": 2,
   "metadata": {},
   "outputs": [
    {
     "name": "stdout",
     "output_type": "stream",
     "text": [
      "Plotting data with + indicating (y = 1) examples and o indicating (y = 0) examples.\n"
     ]
    },
    {
     "data": {
      "image/png": "[encoded data removed]",
      "text/plain": [
       "<IPython.core.display.Image object>"
      ]
     },
     "metadata": {},
     "output_type": "display_data"
    }
   ],
   "source": [
    "function plotData(X, y)\n",
    "    % Create New Figure\n",
    "    figure; hold on;\n",
    "\n",
    "    % finds indexes of positive datapoints and negative datapoints\n",
    "    pos = find(y==1);\n",
    "    neg = find(y==0);\n",
    "\n",
    "    plot(X(pos, 1), X(pos, 2), 'k+','LineWidth', 2,'MarkerSize', 7);\n",
    "    plot(X(neg, 1), X(neg, 2), 'ko', 'MarkerFaceColor', 'y','MarkerSize', 7);\n",
    "\n",
    "    hold off;\n",
    "end\n",
    "\n",
    "%% Initialization\n",
    "clear ; close all; clc\n",
    "\n",
    "%% Load Data\n",
    "%  The first two columns contains the exam scores and the third column\n",
    "%  contains the label.\n",
    "data = load('ex2data1.txt');\n",
    "X = data(:, [1, 2]); y = data(:, 3);\n",
    "\n",
    "fprintf(['Plotting data with + indicating (y = 1) examples and o ' ...\n",
    "         'indicating (y = 0) examples.\\n']);\n",
    "\n",
    "plotData(X, y);\n",
    "\n",
    "hold on;\n",
    "xlabel('Exam 1 score')\n",
    "ylabel('Exam 2 score')\n",
    "\n",
    "legend('Admitted', 'Not admitted')\n",
    "hold off;"
   ]
  },
  {
   "cell_type": "code",
   "execution_count": 3,
   "metadata": {},
   "outputs": [
    {
     "name": "stdout",
     "output_type": "stream",
     "text": [
      "ans = 0.50  0.73  1.00  0.00  \n"
     ]
    }
   ],
   "source": [
    "function g = sigmoid(z)\n",
    "    g = zeros(size(z));\n",
    "    [m,n] = size(z);\n",
    "\n",
    "    for i=1:m,\n",
    "        for j=1:n,\n",
    "            g(i,j) = 1/(1+exp(-z(i,j)));\n",
    "        end;\n",
    "    end;\n",
    "end\n",
    "\n",
    "sprintf(\"%.2f  \",sigmoid([0,1,100,-100]))"
   ]
  },
  {
   "cell_type": "code",
   "execution_count": 4,
   "metadata": {},
   "outputs": [
    {
     "name": "stdout",
     "output_type": "stream",
     "text": [
      "Cost at initial theta (zeros): 0.693147\n",
      "Expected cost (approx): 0.693\n",
      "Gradient at initial theta (zeros): \n",
      " -0.100000 \n",
      " -12.009217 \n",
      " -11.262842 \n",
      "Expected gradients (approx):\n",
      " -0.1000\n",
      " -12.0092\n",
      " -11.2628\n"
     ]
    }
   ],
   "source": [
    "%% ============ Part 2: Compute Cost and Gradient ============\n",
    "\n",
    "function [J, grad] = costFunction(theta, X, y)\n",
    "\n",
    "    % number of training examples\n",
    "    m = length(y); \n",
    "\n",
    "    % You need to return the following variables correctly \n",
    "    J = 0;\n",
    "    grad = zeros(size(theta));\n",
    "\n",
    "    J = (1/m)*((-y'*log(sigmoid(X*theta)))-((1-y)'*log(1-sigmoid(X*theta))));\n",
    "    grad = (1/m)*(sigmoid(X*theta)-y)'*X;\n",
    "\n",
    "end\n",
    "\n",
    "% reload data to prevent next command from adding additional ones\n",
    "X = data(:, [1, 2]); y = data(:, 3);\n",
    "[m, n] = size(X);\n",
    "\n",
    "% Add intercept term to x and X_test\n",
    "X = [ones(m, 1) X];\n",
    "\n",
    "% Initialize fitting parameters\n",
    "initial_theta = zeros(n + 1, 1);\n",
    "\n",
    "% Compute and display initial cost and gradient\n",
    "[cost, grad] = costFunction(initial_theta, X, y);\n",
    "\n",
    "fprintf('Cost at initial theta (zeros): %f\\n', cost);\n",
    "fprintf('Expected cost (approx): 0.693\\n');\n",
    "fprintf('Gradient at initial theta (zeros): \\n');\n",
    "fprintf(' %f \\n', grad);\n",
    "fprintf('Expected gradients (approx):\\n -0.1000\\n -12.0092\\n -11.2628\\n');"
   ]
  },
  {
   "cell_type": "code",
   "execution_count": 5,
   "metadata": {},
   "outputs": [
    {
     "name": "stdout",
     "output_type": "stream",
     "text": [
      "\n",
      "Cost at test theta: 0.218330\n",
      "Expected cost (approx): 0.218\n",
      "Gradient at test theta: \n",
      " 0.042903 \n",
      " 2.566234 \n",
      " 2.646797 \n",
      "Expected gradients (approx):\n",
      " 0.043\n",
      " 2.566\n",
      " 2.647\n"
     ]
    }
   ],
   "source": [
    "% Compute and display cost and gradient with non-zero theta\n",
    "test_theta = [-24; 0.2; 0.2];\n",
    "[cost, grad] = costFunction(test_theta, X, y);\n",
    "\n",
    "fprintf('\\nCost at test theta: %f\\n', cost);\n",
    "fprintf('Expected cost (approx): 0.218\\n');\n",
    "fprintf('Gradient at test theta: \\n');\n",
    "fprintf(' %f \\n', grad);\n",
    "fprintf('Expected gradients (approx):\\n 0.043\\n 2.566\\n 2.647\\n');"
   ]
  },
  {
   "cell_type": "code",
   "execution_count": 6,
   "metadata": {},
   "outputs": [
    {
     "name": "stdout",
     "output_type": "stream",
     "text": [
      "Cost at theta found by fminunc: 0.203498\n",
      "Expected cost (approx): 0.203\n",
      "theta: \n",
      " -25.161272 \n",
      " 0.206233 \n",
      " 0.201470 \n",
      "Expected theta (approx):\n",
      " -25.161\n",
      " 0.206\n",
      " 0.201\n"
     ]
    }
   ],
   "source": [
    "%% ============= Part 3: Optimizing using fminunc  =============\n",
    "%  In this exercise, you will use a built-in function (fminunc) to find the\n",
    "%  optimal parameters theta.\n",
    "\n",
    "%  Set options for fminunc\n",
    "options = optimset('GradObj', 'on', 'MaxIter', 400);\n",
    "\n",
    "%  Run fminunc to obtain the optimal theta\n",
    "%  This function will return theta and the cost \n",
    "[theta, cost] = ...\n",
    "\tfminunc(@(t)(costFunction(t, X, y)), initial_theta, options);\n",
    "\n",
    "% Print theta to screen\n",
    "fprintf('Cost at theta found by fminunc: %f\\n', cost);\n",
    "fprintf('Expected cost (approx): 0.203\\n');\n",
    "fprintf('theta: \\n');\n",
    "fprintf(' %f \\n', theta);\n",
    "fprintf('Expected theta (approx):\\n');\n",
    "fprintf(' -25.161\\n 0.206\\n 0.201\\n');"
   ]
  },
  {
   "cell_type": "code",
   "execution_count": 7,
   "metadata": {
    "jupyter": {
     "source_hidden": true
    }
   },
   "outputs": [],
   "source": [
    "function plotDecisionBoundary(theta, X, y)\n",
    "%PLOTDECISIONBOUNDARY Plots the data points X and y into a new figure with\n",
    "%the decision boundary defined by theta\n",
    "%   PLOTDECISIONBOUNDARY(theta, X,y) plots the data points with + for the \n",
    "%   positive examples and o for the negative examples. X is assumed to be \n",
    "%   a either \n",
    "%   1) Mx3 matrix, where the first column is an all-ones column for the \n",
    "%      intercept.\n",
    "%   2) MxN, N>3 matrix, where the first column is all-ones\n",
    "\n",
    "% Plot Data\n",
    "plotData(X(:,2:3), y);\n",
    "hold on\n",
    "\n",
    "if size(X, 2) <= 3\n",
    "    % Only need 2 points to define a line, so choose two endpoints\n",
    "    plot_x = [min(X(:,2))-2,  max(X(:,2))+2];\n",
    "\n",
    "    % Calculate the decision boundary line\n",
    "    plot_y = (-1./theta(3)).*(theta(2).*plot_x + theta(1));\n",
    "\n",
    "    % Plot, and adjust axes for better viewing\n",
    "    plot(plot_x, plot_y)\n",
    "    \n",
    "    % Legend, specific for the exercise\n",
    "    legend('Admitted', 'Not admitted', 'Decision Boundary')\n",
    "    axis([30, 100, 30, 100])\n",
    "else\n",
    "    % Here is the grid range\n",
    "    u = linspace(-1, 1.5, 50);\n",
    "    v = linspace(-1, 1.5, 50);\n",
    "\n",
    "    z = zeros(length(u), length(v));\n",
    "    % Evaluate z = theta*x over the grid\n",
    "    for i = 1:length(u)\n",
    "        for j = 1:length(v)\n",
    "            z(i,j) = mapFeature(u(i), v(j))*theta;\n",
    "        end\n",
    "    end\n",
    "    z = z'; % important to transpose z before calling contour\n",
    "\n",
    "    % Plot z = 0\n",
    "    % Notice you need to specify the range [0, 0]\n",
    "    contour(u, v, z, [0, 0], 'LineWidth', 2)\n",
    "end\n",
    "hold off\n",
    "\n",
    "end\n"
   ]
  },
  {
   "cell_type": "code",
   "execution_count": 8,
   "metadata": {},
   "outputs": [
    {
     "data": {
      "image/png": "[encoded data removed]",
      "text/plain": [
       "<IPython.core.display.Image object>"
      ]
     },
     "metadata": {},
     "output_type": "display_data"
    }
   ],
   "source": [
    "% Plot Boundary\n",
    "plotDecisionBoundary(theta, X, y);\n",
    "\n",
    "% Put some labels \n",
    "hold on;\n",
    "% Labels and Legend\n",
    "xlabel('Exam 1 score')\n",
    "ylabel('Exam 2 score')\n",
    "\n",
    "% Specified in plot order\n",
    "legend('Admitted', 'Not admitted')\n",
    "hold off;"
   ]
  },
  {
   "cell_type": "code",
   "execution_count": 9,
   "metadata": {},
   "outputs": [
    {
     "name": "stdout",
     "output_type": "stream",
     "text": [
      "For a student with scores 45 and 85, we predict an admission probability of 0.776289\n",
      "Expected value: 0.775 +/- 0.002\n",
      "\n",
      "Train Accuracy: 89.000000\n",
      "Expected accuracy (approx): 89.0\n",
      "\n"
     ]
    }
   ],
   "source": [
    "%% ============== Part 4: Predict and Accuracies ==============\n",
    "\n",
    "function p = predict(theta, X)\n",
    "    %PREDICT Predict whether the label is 0 or 1 using learned logistic \n",
    "    %regression parameters theta\n",
    "    %   p = PREDICT(theta, X) computes the predictions for X using a \n",
    "    %   threshold at 0.5 (i.e., if sigmoid(theta'*x) >= 0.5, predict 1)\n",
    "\n",
    "    m = size(X, 1); % Number of training examples\n",
    "    p = zeros(m, 1);\n",
    "\n",
    "    p = sigmoid(X*theta);\n",
    "    for i=1:size(p,1), \n",
    "        if p(i)>=0.5,\n",
    "            p(i)=1;\n",
    "        else\n",
    "            p(i)=0;\n",
    "        end;\n",
    "    end;\n",
    "\n",
    "end\n",
    "\n",
    "prob = sigmoid([1 45 85] * theta);\n",
    "fprintf(['For a student with scores 45 and 85, we predict an admission ' ...\n",
    "         'probability of %f\\n'], prob);\n",
    "fprintf('Expected value: 0.775 +/- 0.002\\n\\n');\n",
    "\n",
    "% Compute accuracy on our training set\n",
    "p = predict(theta, X);\n",
    "\n",
    "fprintf('Train Accuracy: %f\\n', mean(double(p == y)) * 100);\n",
    "fprintf('Expected accuracy (approx): 89.0\\n');\n",
    "fprintf('\\n');"
   ]
  }
 ],
 "metadata": {
  "kernelspec": {
   "display_name": "Octave",
   "language": "octave",
   "name": "octave"
  },
  "language_info": {
   "file_extension": ".m",
   "help_links": [
    {
     "text": "GNU Octave",
     "url": "https://www.gnu.org/software/octave/support.html"
    },
    {
     "text": "Octave Kernel",
     "url": "https://github.com/Calysto/octave_kernel"
    },
    {
     "text": "MetaKernel Magics",
     "url": "https://metakernel.readthedocs.io/en/latest/source/README.html"
    }
   ],
   "mimetype": "text/x-octave",
   "name": "octave",
   "version": "4.2.2"
  }
 },
 "nbformat": 4,
 "nbformat_minor": 4
}
