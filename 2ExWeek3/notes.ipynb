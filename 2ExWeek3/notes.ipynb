{
 "cells": [
  {
   "cell_type": "markdown",
   "metadata": {},
   "source": [
    "# WEEK3\n",
    "\n",
    "## Classification problems\n",
    "\n",
    "Problems which can only have a small number of discrete values as possible solutions.\\\n",
    "> Is this email a spam -> yes or no?\\\n",
    "> Is this tumor malignent -> yes, no?\n",
    "\n",
    "These examples are **binary classification** problems which means these only \n",
    "have two possible solutions 0 or 1.\n",
    "\n",
    "To solve classification problems we can use logistic regression.\n",
    "\n",
    "## Logistic Regression\n",
    "\n",
    "Sigmoid function also known as logistic function:\n",
    "> $h_\\theta(x) = g(\\theta^Tx)  \\\\  z = \\theta^Tx  \\\\  g(z)=\\frac{1}{1+e^{z}}$\n"
   ]
  },
  {
   "cell_type": "markdown",
   "metadata": {},
   "source": [
    "## Decision Boundary\n",
    "is the line that separetes where y = 1 is and where y = 0 is. It is created by our hypothesis function. \n",
    "> $h\\theta(x) \\geq 0.5 -> y=1$\n",
    ">\n",
    "> $h\\theta(x) \\leq 0.5 -> y=0$\n",
    "\n",
    "> $\\begin{align*}& h_\\theta(x) = g(\\theta^T x) \\geq 0.5 \\newline& when \\; \\theta^T x \\geq 0\\end{align*}$\n",
    "\n",
    "> $\\begin{align*}& \\theta^T x \\geq 0 \\Rightarrow y = 1 \\newline& \\theta^T x < 0 \\Rightarrow y = 0 \\newline\\end{align*}$\n",
    "\n"
   ]
  },
  {
   "cell_type": "markdown",
   "metadata": {},
   "source": [
    "## Cost function\n",
    "the cost function for logistic regression is setup in a way that when\n",
    "algorithm/hypothesis predicts 0 when y=0 than cost function will ouput 0\n",
    "but if prediction approches when then cost function approaches infinity.\n",
    "\n"
   ]
  }
 ],
 "metadata": {
  "kernelspec": {
   "display_name": "Python 3",
   "language": "python",
   "name": "python3"
  },
  "language_info": {
   "codemirror_mode": {
    "name": "ipython",
    "version": 3
   },
   "file_extension": ".py",
   "mimetype": "text/x-python",
   "name": "python",
   "nbconvert_exporter": "python",
   "pygments_lexer": "ipython3",
   "version": "3.6.9"
  }
 },
 "nbformat": 4,
 "nbformat_minor": 4
}
