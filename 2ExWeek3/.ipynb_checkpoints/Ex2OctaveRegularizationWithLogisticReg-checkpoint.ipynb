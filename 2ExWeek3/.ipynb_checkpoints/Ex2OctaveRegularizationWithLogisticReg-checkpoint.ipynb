{
 "cells": [
  {
   "cell_type": "code",
   "execution_count": 29,
   "metadata": {},
   "outputs": [
    {
     "data": {
      "image/png": "[encoded data removed]",
      "text/plain": [
       "<IPython.core.display.Image object>"
      ]
     },
     "metadata": {},
     "output_type": "display_data"
    }
   ],
   "source": [
    "function plotData(X, y)\n",
    "    % Create New Figure\n",
    "    figure; hold on;\n",
    "\n",
    "    % finds indexes of positive datapoints and negative datapoints\n",
    "    pos = find(y==1);\n",
    "    neg = find(y==0);\n",
    "\n",
    "    plot(X(pos, 1), X(pos, 2), 'k+','LineWidth', 2, ...\n",
    "    'MarkerSize', 7);\n",
    "    plot(X(neg, 1), X(neg, 2), 'ko', 'MarkerFaceColor', 'y', ...\n",
    "    'MarkerSize', 7);\n",
    "    \n",
    "    hold off;\n",
    "end\n",
    "\n",
    "%% Initialization\n",
    "clear ; close all; clc\n",
    "\n",
    "%% Load Data\n",
    "%  The first two columns contains the X values and the third column\n",
    "%  contains the label (y).\n",
    "data = load('ex2data2.txt');\n",
    "X = data(:, [1, 2]); y = data(:, 3);\n",
    "\n",
    "plotData(X, y);\n",
    "\n",
    "% Put some labels\n",
    "hold on;\n",
    "\n",
    "% Labels and Legend\n",
    "xlabel('Microchip Test 1')\n",
    "ylabel('Microchip Test 2')\n",
    "\n",
    "% Specified in plot order\n",
    "legend('y = 1', 'y = 0')\n",
    "hold off;"
   ]
  },
  {
   "cell_type": "code",
   "execution_count": 30,
   "metadata": {
    "jupyter": {
     "source_hidden": true
    }
   },
   "outputs": [],
   "source": [
    "function out = mapFeature(X1, X2)\n",
    "%   MAPFEATURE(X1, X2) maps the two input features\n",
    "%   to quadratic features used in the regularization exercise.\n",
    "%\n",
    "%   Returns a new feature array with more features, comprising of \n",
    "%   X1, X2, X1.^2, X2.^2, X1*X2, X1*X2.^2, etc..\n",
    "%\n",
    "%   Inputs X1, X2 must be the same size\n",
    "degree = 6;\n",
    "out = ones(size(X1(:,1)));\n",
    "for i = 1:degree\n",
    "    for j = 0:i\n",
    "        out(:, end+1) = (X1.^(i-j)).*(X2.^j);\n",
    "    end\n",
    "end\n",
    "\n",
    "end"
   ]
  },
  {
   "cell_type": "code",
   "execution_count": 31,
   "metadata": {
    "jupyter": {
     "source_hidden": true
    }
   },
   "outputs": [],
   "source": [
    "function g = sigmoid(z)\n",
    "\n",
    "g = zeros(size(z));\n",
    "[m,n] = size(z);\n",
    "\n",
    "for i=1:m,\n",
    "    for j=1:n,\n",
    "        g(i,j) = 1/(1+exp(-z(i,j)));\n",
    "    end;\n",
    "end;\n",
    "\n",
    "\n",
    "end"
   ]
  },
  {
   "cell_type": "code",
   "execution_count": 32,
   "metadata": {},
   "outputs": [
    {
     "name": "stdout",
     "output_type": "stream",
     "text": [
      "Cost at initial theta (zeros): 0.693147\n",
      "Expected cost (approx): 0.693\n",
      "Gradient at initial theta (zeros) - first five values only:\n",
      " 0.008475 \n",
      " 0.018788 \n",
      " 0.000078 \n",
      " 0.050345 \n",
      " 0.011501 \n",
      "Expected gradients (approx) - first five values only:\n",
      " 0.0085\n",
      " 0.0188\n",
      " 0.0001\n",
      " 0.0503\n",
      " 0.0115\n"
     ]
    }
   ],
   "source": [
    "%% =========== Part 1: Regularized Logistic Regression ============\n",
    "\n",
    "% loading data again for convenience/preventing a bug \n",
    "data = load('ex2data2.txt');\n",
    "X = data(:, [1, 2]); y = data(:, 3);\n",
    "\n",
    "function [J, grad] = costFunctionReg(theta, X, y, lambda)\n",
    "    m = length(y); % number of training examples\n",
    "    \n",
    "    J = 0;\n",
    "    grad = zeros(size(theta));\n",
    "    thetaZero = theta;\n",
    "    thetaZero(1) = 0;\n",
    "    h_theta = sigmoid(X*theta);\n",
    "    \n",
    "    % COST\n",
    "    J = (1/m) * ((-y'*log(h_theta))-(1-y)'*(log(1-h_theta))) + ((lambda/(2*m))*theta(2:end)'*theta(2:end));\n",
    "    % GRADIENT\n",
    "    grad = ((1/m)*X'*(h_theta-y)) + ((lambda/m)*thetaZero);\n",
    "end\n",
    "\n",
    "% Add Polynomial Features\n",
    "% maps 2 input features into more quadratic features and also adds a column of ones\n",
    "X = mapFeature(X(:,1), X(:,2));\n",
    "initial_theta = zeros(size(X, 2), 1);\n",
    "% Set regularization parameter lambda to 1\n",
    "lambda = 1;\n",
    "\n",
    "% Compute and display initial cost and gradient for regularized logistic\n",
    "% regression\n",
    "[cost, grad] = costFunctionReg(initial_theta, X, y, lambda);\n",
    "\n",
    "fprintf('Cost at initial theta (zeros): %f\\n', cost);\n",
    "fprintf('Expected cost (approx): 0.693\\n');\n",
    "fprintf('Gradient at initial theta (zeros) - first five values only:\\n');\n",
    "fprintf(' %f \\n', grad(1:5));\n",
    "fprintf('Expected gradients (approx) - first five values only:\\n');\n",
    "fprintf(' 0.0085\\n 0.0188\\n 0.0001\\n 0.0503\\n 0.0115\\n');"
   ]
  },
  {
   "cell_type": "code",
   "execution_count": 33,
   "metadata": {},
   "outputs": [
    {
     "name": "stdout",
     "output_type": "stream",
     "text": [
      "\n",
      "Cost at test theta (with lambda = 10): 3.164509\n",
      "Expected cost (approx): 3.16\n",
      "Gradient at test theta - first five values only:\n",
      " 0.346045 \n",
      " 0.161352 \n",
      " 0.194796 \n",
      " 0.226863 \n",
      " 0.092186 \n",
      "Expected gradients (approx) - first five values only:\n",
      " 0.3460\n",
      " 0.1614\n",
      " 0.1948\n",
      " 0.2269\n",
      " 0.0922\n"
     ]
    }
   ],
   "source": [
    "% Compute and display cost and gradient\n",
    "% with all-ones theta and lambda = 10\n",
    "test_theta = ones(size(X,2),1);\n",
    "[cost, grad] = costFunctionReg(test_theta, X, y, 10);\n",
    "\n",
    "fprintf('\\nCost at test theta (with lambda = 10): %f\\n', cost);\n",
    "fprintf('Expected cost (approx): 3.16\\n');\n",
    "fprintf('Gradient at test theta - first five values only:\\n');\n",
    "fprintf(' %f \\n', grad(1:5));\n",
    "fprintf('Expected gradients (approx) - first five values only:\\n');\n",
    "fprintf(' 0.3460\\n 0.1614\\n 0.1948\\n 0.2269\\n 0.0922\\n');"
   ]
  },
  {
   "cell_type": "code",
   "execution_count": 34,
   "metadata": {
    "jupyter": {
     "source_hidden": true
    }
   },
   "outputs": [],
   "source": [
    "function p = predict(theta, X)\n",
    "%PREDICT Predict whether the label is 0 or 1 using learned logistic \n",
    "%regression parameters theta\n",
    "%   p = PREDICT(theta, X) computes the predictions for X using a \n",
    "%   threshold at 0.5 (i.e., if sigmoid(theta'*x) >= 0.5, predict 1)\n",
    "\n",
    "m = size(X, 1); % Number of training examples\n",
    "\n",
    "% You need to return the following variables correctly\n",
    "p = zeros(m, 1);\n",
    "\n",
    "p = sigmoid(X*theta);\n",
    "for i=1:size(p,1), \n",
    "    if p(i)>=0.5,\n",
    "        p(i)=1;\n",
    "    else\n",
    "        p(i)=0;\n",
    "    end;\n",
    "end;\n",
    "\n",
    "end"
   ]
  },
  {
   "cell_type": "code",
   "execution_count": 35,
   "metadata": {
    "jupyter": {
     "source_hidden": true
    }
   },
   "outputs": [],
   "source": [
    "function plotDecisionBoundary(theta, X, y)\n",
    "%PLOTDECISIONBOUNDARY Plots the data points X and y into a new figure with\n",
    "%the decision boundary defined by theta\n",
    "%   PLOTDECISIONBOUNDARY(theta, X,y) plots the data points with + for the \n",
    "%   positive examples and o for the negative examples. X is assumed to be \n",
    "%   a either \n",
    "%   1) Mx3 matrix, where the first column is an all-ones column for the \n",
    "%      intercept.\n",
    "%   2) MxN, N>3 matrix, where the first column is all-ones\n",
    "\n",
    "% Plot Data\n",
    "plotData(X(:,2:3), y);\n",
    "hold on\n",
    "\n",
    "if size(X, 2) <= 3\n",
    "    % Only need 2 points to define a line, so choose two endpoints\n",
    "    plot_x = [min(X(:,2))-2,  max(X(:,2))+2];\n",
    "\n",
    "    % Calculate the decision boundary line\n",
    "    plot_y = (-1./theta(3)).*(theta(2).*plot_x + theta(1));\n",
    "\n",
    "    % Plot, and adjust axes for better viewing\n",
    "    plot(plot_x, plot_y)\n",
    "    \n",
    "    % Legend, specific for the exercise\n",
    "    legend('Admitted', 'Not admitted', 'Decision Boundary')\n",
    "    axis([30, 100, 30, 100])\n",
    "else\n",
    "    % Here is the grid range\n",
    "    u = linspace(-1, 1.5, 50);\n",
    "    v = linspace(-1, 1.5, 50);\n",
    "\n",
    "    z = zeros(length(u), length(v));\n",
    "    % Evaluate z = theta*x over the grid\n",
    "    for i = 1:length(u)\n",
    "        for j = 1:length(v)\n",
    "            z(i,j) = mapFeature(u(i), v(j))*theta;\n",
    "        end\n",
    "    end\n",
    "    z = z'; % important to transpose z before calling contour\n",
    "\n",
    "    % Plot z = 0\n",
    "    % Notice you need to specify the range [0, 0]\n",
    "    contour(u, v, z, [0, 0], 'LineWidth', 2)\n",
    "end\n",
    "hold off\n",
    "\n",
    "end"
   ]
  },
  {
   "cell_type": "code",
   "execution_count": 36,
   "metadata": {},
   "outputs": [
    {
     "name": "stdout",
     "output_type": "stream",
     "text": [
      "Train Accuracy: 83.050847\n",
      "Expected accuracy (with lambda = 1): 83.1 (approx)\n"
     ]
    },
    {
     "data": {
      "image/png": "[encoded data removed]",
      "text/plain": [
       "<IPython.core.display.Image object>"
      ]
     },
     "metadata": {},
     "output_type": "display_data"
    }
   ],
   "source": [
    "%% ============= Part 2: Regularization and Accuracies =============\n",
    "\n",
    "% Initialize fitting parameters\n",
    "initial_theta = zeros(size(X, 2), 1);\n",
    "\n",
    "% Set regularization parameter lambda to 1 (you should vary this)\n",
    "lambda = 1;\n",
    "\n",
    "% Set Options\n",
    "options = optimset('GradObj', 'on', 'MaxIter', 400);\n",
    "\n",
    "% Optimize\n",
    "[theta, J, exit_flag] = ...\n",
    "\tfminunc(@(t)(costFunctionReg(t, X, y, lambda)), initial_theta, options);\n",
    "\n",
    "% Plot Boundary\n",
    "plotDecisionBoundary(theta, X, y);\n",
    "hold on;\n",
    "title(sprintf('lambda = %g', lambda))\n",
    "\n",
    "% Labels and Legend\n",
    "xlabel('Microchip Test 1')\n",
    "ylabel('Microchip Test 2')\n",
    "\n",
    "legend('y = 1', 'y = 0', 'Decision boundary')\n",
    "hold off;\n",
    "\n",
    "% Compute accuracy on our training set\n",
    "p = predict(theta, X);\n",
    "\n",
    "fprintf('Train Accuracy: %f\\n', mean(double(p == y)) * 100);\n",
    "fprintf('Expected accuracy (with lambda = 1): 83.1 (approx)\\n');"
   ]
  },
  {
   "cell_type": "code",
   "execution_count": 37,
   "metadata": {
    "jupyter": {
     "source_hidden": true
    }
   },
   "outputs": [
    {
     "name": "stdout",
     "output_type": "stream",
     "text": [
      "Train Accuracy: 61.016949\n",
      "Expected accuracy (with lambda = 1): 83.1 (approx)\n"
     ]
    },
    {
     "data": {
      "image/png": "[encoded data removed]",
      "text/plain": [
       "<IPython.core.display.Image object>"
      ]
     },
     "metadata": {},
     "output_type": "display_data"
    }
   ],
   "source": [
    "% Initialize fitting parameters\n",
    "initial_theta = zeros(size(X, 2), 1);\n",
    "\n",
    "% Set regularization parameter lambda to 1 (you should vary this)\n",
    "lambda = 100;\n",
    "\n",
    "% Set Options\n",
    "options = optimset('GradObj', 'on', 'MaxIter', 400);\n",
    "\n",
    "% Optimize\n",
    "[theta, J, exit_flag] = ...\n",
    "\tfminunc(@(t)(costFunctionReg(t, X, y, lambda)), initial_theta, options);\n",
    "\n",
    "% Plot Boundary\n",
    "plotDecisionBoundary(theta, X, y);\n",
    "hold on;\n",
    "title(sprintf('lambda = %g', lambda))\n",
    "\n",
    "% Labels and Legend\n",
    "xlabel('Microchip Test 1')\n",
    "ylabel('Microchip Test 2')\n",
    "\n",
    "legend('y = 1', 'y = 0', 'Decision boundary')\n",
    "hold off;\n",
    "\n",
    "% Compute accuracy on our training set\n",
    "p = predict(theta, X);\n",
    "\n",
    "fprintf('Train Accuracy: %f\\n', mean(double(p == y)) * 100);\n",
    "fprintf('Expected accuracy (with lambda = 1): 83.1 (approx)\\n');"
   ]
  },
  {
   "cell_type": "code",
   "execution_count": 38,
   "metadata": {
    "jupyter": {
     "source_hidden": true
    }
   },
   "outputs": [
    {
     "name": "stdout",
     "output_type": "stream",
     "text": [
      "Train Accuracy: 56.779661\n",
      "Expected accuracy (with lambda = 1): 83.1 (approx)\n"
     ]
    },
    {
     "data": {
      "image/png": "[encoded data removed]",
      "text/plain": [
       "<IPython.core.display.Image object>"
      ]
     },
     "metadata": {},
     "output_type": "display_data"
    }
   ],
   "source": [
    "% Initialize fitting parameters\n",
    "initial_theta = zeros(size(X, 2), 1);\n",
    "\n",
    "% Set regularization parameter lambda to 1 (you should vary this)\n",
    "lambda = -100;\n",
    "\n",
    "% Set Options\n",
    "options = optimset('GradObj', 'on', 'MaxIter', 400);\n",
    "\n",
    "% Optimize\n",
    "[theta, J, exit_flag] = ...\n",
    "\tfminunc(@(t)(costFunctionReg(t, X, y, lambda)), initial_theta, options);\n",
    "\n",
    "% Plot Boundary\n",
    "plotDecisionBoundary(theta, X, y);\n",
    "hold on;\n",
    "title(sprintf('lambda = %g', lambda))\n",
    "\n",
    "% Labels and Legend\n",
    "xlabel('Microchip Test 1')\n",
    "ylabel('Microchip Test 2')\n",
    "\n",
    "legend('y = 1', 'y = 0', 'Decision boundary')\n",
    "hold off;\n",
    "\n",
    "% Compute accuracy on our training set\n",
    "p = predict(theta, X);\n",
    "\n",
    "fprintf('Train Accuracy: %f\\n', mean(double(p == y)) * 100);\n",
    "fprintf('Expected accuracy (with lambda = 1): 83.1 (approx)\\n');"
   ]
  },
  {
   "cell_type": "code",
   "execution_count": 39,
   "metadata": {
    "jupyter": {
     "source_hidden": true
    }
   },
   "outputs": [
    {
     "name": "stdout",
     "output_type": "stream",
     "text": [
      "Train Accuracy: 86.440678\n",
      "Expected accuracy (with lambda = 1): 83.1 (approx)\n"
     ]
    },
    {
     "data": {
      "image/png": "[encoded data removed]",
      "text/plain": [
       "<IPython.core.display.Image object>"
      ]
     },
     "metadata": {},
     "output_type": "display_data"
    }
   ],
   "source": [
    "% Initialize fitting parameters\n",
    "initial_theta = zeros(size(X, 2), 1);\n",
    "\n",
    "% Set regularization parameter lambda to 1 (you should vary this)\n",
    "lambda = 0;\n",
    "\n",
    "% Set Options\n",
    "options = optimset('GradObj', 'on', 'MaxIter', 400);\n",
    "\n",
    "% Optimize\n",
    "[theta, J, exit_flag] = ...\n",
    "\tfminunc(@(t)(costFunctionReg(t, X, y, lambda)), initial_theta, options);\n",
    "\n",
    "% Plot Boundary\n",
    "plotDecisionBoundary(theta, X, y);\n",
    "hold on;\n",
    "title(sprintf('lambda = %g', lambda))\n",
    "\n",
    "% Labels and Legend\n",
    "xlabel('Microchip Test 1')\n",
    "ylabel('Microchip Test 2')\n",
    "\n",
    "legend('y = 1', 'y = 0', 'Decision boundary')\n",
    "hold off;\n",
    "\n",
    "% Compute accuracy on our training set\n",
    "p = predict(theta, X);\n",
    "\n",
    "fprintf('Train Accuracy: %f\\n', mean(double(p == y)) * 100);\n",
    "fprintf('Expected accuracy (with lambda = 1): 83.1 (approx)\\n');"
   ]
  }
 ],
 "metadata": {
  "kernelspec": {
   "display_name": "Octave",
   "language": "octave",
   "name": "octave"
  },
  "language_info": {
   "file_extension": ".m",
   "help_links": [
    {
     "text": "GNU Octave",
     "url": "https://www.gnu.org/software/octave/support.html"
    },
    {
     "text": "Octave Kernel",
     "url": "https://github.com/Calysto/octave_kernel"
    },
    {
     "text": "MetaKernel Magics",
     "url": "https://metakernel.readthedocs.io/en/latest/source/README.html"
    }
   ],
   "mimetype": "text/x-octave",
   "name": "octave",
   "version": "4.2.2"
  }
 },
 "nbformat": 4,
 "nbformat_minor": 4
}
