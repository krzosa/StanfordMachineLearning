{
 "cells": [
  {
   "cell_type": "markdown",
   "metadata": {},
   "source": [
    "# Gradien Descent"
   ]
  },
  {
   "cell_type": "code",
   "execution_count": 2,
   "metadata": {
    "jupyter": {
     "source_hidden": true
    }
   },
   "outputs": [],
   "source": [
    "# %load gradientDescent.py\n",
    "import numpy as np\n",
    "from mpl_toolkits.mplot3d import Axes3D\n",
    "from matplotlib import pyplot as plt\n",
    "from matplotlib import cm"
   ]
  },
  {
   "cell_type": "code",
   "execution_count": 2,
   "metadata": {},
   "outputs": [],
   "source": [
    "def computeCost(X, y, theta):\n",
    "    m = y.size\n",
    "    XthetaMinusY = np.dot(X, theta) - y\n",
    "    \n",
    "    # Equation:\n",
    "    # (1/(2*m))*(X*theta - y)'*(X*theta - y)\n",
    "    equation = np.dot((1/(2*m)), np.dot(np.transpose(XthetaMinusY), (XthetaMinusY)))\n",
    "    return equation[0][0]"
   ]
  },
  {
   "cell_type": "code",
   "execution_count": 2,
   "metadata": {},
   "outputs": [],
   "source": [
    "# returns: theta( arr(1 x 2) ), errorHistory( arr(numberOfIterations x 1) )\n",
    "#\n",
    "# X -> [1, population(1)]   Y -> [Profit(1)]    alpha -> learningRate\n",
    "#      [1, population(2)]        [Profit(2)]    \n",
    "#      ...                       ...\n",
    "#      [1, population(n)]        [Profit(n)]\n",
    "def gradientDescent(X, y, alpha, numberOfIterations):\n",
    "    m = y.size\n",
    "    errorHistory = np.zeros((numberOfIterations, 1))\n",
    "    theta = 0\n",
    "\n",
    "    for i in range(0, numberOfIterations):\n",
    "        # theta = theta - (alpha/m)*X'*(X*theta - y)\n",
    "        # where:\n",
    "        # X' - transpose of X\n",
    "        theta = theta - (alpha/m)*np.dot(np.transpose(X), (np.dot(X,theta) - y))\n",
    "        errorHistory[i] = computeCost(X, y, theta)\n",
    "\n",
    "    return [theta[:,0], errorHistory] "
   ]
  },
  {
   "cell_type": "code",
   "execution_count": 2,
   "metadata": {},
   "outputs": [],
   "source": [
    "def predictProfit(populationTensOfThousands, theta):\n",
    "    predict = np.dot(np.array([populationTensOfThousands, 1]), theta)\n",
    "    return predict * 10000"
   ]
  },
  {
   "cell_type": "code",
   "execution_count": 2,
   "metadata": {
    "jupyter": {
     "source_hidden": true
    }
   },
   "outputs": [
    {
     "name": "stdout",
     "output_type": "stream",
     "text": [
      "Predicted profit when 35000\n",
      "4519.7678677017675\n",
      "Predicted profit when 70000\n",
      "45342.45012944714\n"
     ]
    },
    {
     "data": {
      "image/png": "[encoded data removed]",
      "text/plain": [
       "<Figure size 432x288 with 2 Axes>"
      ]
     },
     "metadata": {
      "needs_background": "light"
     },
     "output_type": "display_data"
    }
   ],
   "source": [
    "def main():\n",
    "    # init variables\n",
    "    data = np.genfromtxt(\"ex1data1.txt\", delimiter=',')\n",
    "    theta = np.zeros((2,1))\n",
    "    iterations = 1500\n",
    "    alpha = 0.01\n",
    "\n",
    "    # X, y\n",
    "    population = np.array([data[:,0]])\n",
    "    profit = np.array([data[:,1]])\n",
    "    X = np.transpose(population)\n",
    "    y = np.transpose(profit)\n",
    "\n",
    "    # adding a column of ones to X\n",
    "    ones = np.ones((X.shape[0], 2))\n",
    "    ones[:,0] = X[:,0]\n",
    "    X = ones\n",
    "\n",
    "    # calculating theta and errorHistory with gradientDescent algorithm\n",
    "    [theta, errorHistory] = gradientDescent(X, y, alpha, iterations)\n",
    "\n",
    "    # PREDICTION\n",
    "\n",
    "    # predicting profit for population of 35000 and 70000\n",
    "    print(\"Predicted profit when 35000\")\n",
    "    print(predictProfit(3.5, theta))\n",
    "    print(\"Predicted profit when 70000\")\n",
    "    print(predictProfit(7, theta))\n",
    "\n",
    "    # PLOTTING\n",
    "    # 2D\n",
    "    # iterations x error \n",
    "    plt.subplot(2,1,1)\n",
    "    arrayIterations = np.transpose(np.arange(1, iterations+1))\n",
    "    plt.plot(arrayIterations, errorHistory, \"r\")\n",
    "\n",
    "    # # population x profit\n",
    "    plt.subplot(2,1,2)\n",
    "    plt.xlabel(\"population\")\n",
    "    plt.ylabel(\"profit\")\n",
    "    plt.plot(X[:,0], y, \"rx\", X[:,0], np.dot(X,theta), \"b\")\n",
    "    plt.show()\n",
    "\n",
    "\n",
    "if __name__ == \"__main__\":\n",
    "    main()"
   ]
  },
  {
   "cell_type": "markdown",
   "metadata": {},
   "source": [
    "# Gradient Descent with multiple features"
   ]
  },
  {
   "cell_type": "code",
   "execution_count": 3,
   "metadata": {
    "jupyter": {
     "source_hidden": true
    }
   },
   "outputs": [],
   "source": [
    "# %load gradientDescentMulti.py\n",
    "import numpy as np\n",
    "from mpl_toolkits.mplot3d import Axes3D\n",
    "from matplotlib import pyplot as plt\n",
    "from matplotlib import cm"
   ]
  },
  {
   "cell_type": "code",
   "execution_count": 3,
   "metadata": {},
   "outputs": [],
   "source": [
    "def computeCost(X, y, theta):\n",
    "    m = y.size\n",
    "    XthetaMinusY = np.dot(X, theta) - y\n",
    "    \n",
    "    # Equation:\n",
    "    # (1/(2*m))*(X*theta - y)'*(X*theta - y)\n",
    "    equation = np.dot((1/(2*m)), np.dot(np.transpose(XthetaMinusY), (XthetaMinusY)))\n",
    "    return equation[0][0]"
   ]
  },
  {
   "cell_type": "code",
   "execution_count": 3,
   "metadata": {},
   "outputs": [],
   "source": [
    "# returns: theta( arr(1 x 2) ), errorHistory( arr(numberOfIterations x 1) )\n",
    "#\n",
    "# X -> [1, population(1)]   Y -> [Profit(1)]    alpha -> learningRate\n",
    "#      [1, population(2)]        [Profit(2)]    \n",
    "#      ...                       ...\n",
    "#      [1, population(n)]        [Profit(n)]\n",
    "def gradientDescent(X, y, alpha, theta, numberOfIterations):\n",
    "    m = y.size\n",
    "    errorHistory = np.zeros((numberOfIterations, 1))\n",
    "\n",
    "    for i in range(0, numberOfIterations):\n",
    "        # theta = theta - (alpha/m)*X'*(X*theta - y)\n",
    "        # where:\n",
    "        # X' - transpose of X\n",
    "        theta = theta - (alpha/m)*np.dot(np.transpose(X), (np.dot(X,theta) - y))\n",
    "        errorHistory[i] = computeCost(X, y, theta)\n",
    "\n",
    "    return [theta, errorHistory] "
   ]
  },
  {
   "cell_type": "code",
   "execution_count": 3,
   "metadata": {},
   "outputs": [],
   "source": [
    "def normalizeFeatures(X):\n",
    "    X_norm = X\n",
    "    mean = np.mean(X_norm, axis=0)\n",
    "    sigma = np.std(X_norm, axis=0)\n",
    "    X_norm = (X_norm-mean)\n",
    "    X_norm = X_norm/sigma\n",
    "\n",
    "    return [X_norm, mean, sigma]"
   ]
  },
  {
   "cell_type": "code",
   "execution_count": 3,
   "metadata": {},
   "outputs": [],
   "source": [
    "# x array - > [ square feet, number of bedrooms ]\n",
    "def predictPrice(arrX, theta):\n",
    "    predict = np.dot(arrX, theta)\n",
    "    return predict[0]"
   ]
  },
  {
   "cell_type": "code",
   "execution_count": 3,
   "metadata": {
    "jupyter": {
     "source_hidden": true
    }
   },
   "outputs": [
    {
     "name": "stdout",
     "output_type": "stream",
     "text": [
      "289221.5473712181\n"
     ]
    },
    {
     "data": {
      "image/png": "[encoded data removed]",
      "text/plain": [
       "<Figure size 432x288 with 1 Axes>"
      ]
     },
     "metadata": {
      "needs_background": "light"
     },
     "output_type": "display_data"
    }
   ],
   "source": [
    "# numpy config. no scientific notation\n",
    "np.set_printoptions(suppress=True)\n",
    "# init vars\n",
    "data = np.genfromtxt(\"ex1data2.txt\", delimiter=',')\n",
    "iterations = 400\n",
    "alpha = 0.01\n",
    "\n",
    "# initialize with all columns except last\n",
    "X = np.array(data[:,:-1])\n",
    "# initialize with last column from file\n",
    "y = np.array([data[:,-1]])\n",
    "y = np.transpose(y)\n",
    "\n",
    "# adding a column of ones to X\n",
    "ones = np.ones((X.shape[0], 1))\n",
    "X = np.hstack((ones, X))\n",
    "\n",
    "# passing without first column ( column of ones )\n",
    "X[:,1:], mean, std = normalizeFeatures(X[:,1:])\n",
    "\n",
    "\n",
    "theta = np.zeros((X.shape[1],1))\n",
    "[theta, errorHistory] = gradientDescent(X, y, alpha, theta, iterations)\n",
    "\n",
    "# PREDICTION\n",
    "X1 = [1, 1650, 3]\n",
    "X1[1:] = (X1[1:]-mean)/std\n",
    "print(predictPrice(X1, theta))\n",
    "\n",
    "# PLOTTING\n",
    "# 2D\n",
    "arrayIterations = np.transpose(np.arange(1, iterations+1))\n",
    "plt.plot(arrayIterations, errorHistory, \"r\")\n",
    "plt.show()"
   ]
  },
  {
   "cell_type": "markdown",
   "metadata": {},
   "source": [
    "# Normal Equation"
   ]
  },
  {
   "cell_type": "code",
   "execution_count": 9,
   "metadata": {
    "jupyter": {
     "source_hidden": true
    }
   },
   "outputs": [],
   "source": [
    "# %load normalEquation.py\n",
    "import numpy as np"
   ]
  },
  {
   "cell_type": "code",
   "execution_count": 9,
   "metadata": {},
   "outputs": [],
   "source": [
    "# returns theta\n",
    "def normalEquation(X, y):\n",
    "    # adding a column of ones to X\n",
    "    ones = np.ones((X.shape[0], 1))\n",
    "    X = np.hstack((ones, X))\n",
    "\n",
    "    transposeX = np.transpose(X) \n",
    "    # inverse(transposeX*X)*transposeX*y\n",
    "    return np.linalg.pinv(transposeX.dot(X)).dot(transposeX.dot(y))"
   ]
  },
  {
   "cell_type": "code",
   "execution_count": 9,
   "metadata": {},
   "outputs": [],
   "source": [
    "# input house -> [ houseInFeet^2, numberOfBedrooms ]\n",
    "def predictHousePrice(house, theta):\n",
    "    house = np.append(1, house)\n",
    "    return house.dot(theta)"
   ]
  },
  {
   "cell_type": "code",
   "execution_count": 9,
   "metadata": {
    "jupyter": {
     "source_hidden": true
    }
   },
   "outputs": [
    {
     "name": "stdout",
     "output_type": "stream",
     "text": [
      "[293081.46433497]\n"
     ]
    }
   ],
   "source": [
    "# numpy config. no scientific notation\n",
    "np.set_printoptions(suppress=True)\n",
    "# init vars\n",
    "data = np.genfromtxt(\"ex1data2.txt\", delimiter=',')\n",
    "iterations = 400\n",
    "alpha = 0.01\n",
    "\n",
    "# initialize with all columns except last\n",
    "X = np.array(data[:,:-1])\n",
    "# initialize with last column from file\n",
    "y = np.array([data[:,-1]])\n",
    "y = np.transpose(y)\n",
    "\n",
    "theta = normalEquation(X,y)\n",
    "print(predictHousePrice(np.array([1650, 3]), theta))"
   ]
  }
 ],
 "metadata": {
  "kernelspec": {
   "display_name": "Python 3",
   "language": "python",
   "name": "python3"
  },
  "language_info": {
   "codemirror_mode": {
    "name": "ipython",
    "version": 3
   },
   "file_extension": ".py",
   "mimetype": "text/x-python",
   "name": "python",
   "nbconvert_exporter": "python",
   "pygments_lexer": "ipython3",
   "version": "3.7.4"
  }
 },
 "nbformat": 4,
 "nbformat_minor": 4
}
